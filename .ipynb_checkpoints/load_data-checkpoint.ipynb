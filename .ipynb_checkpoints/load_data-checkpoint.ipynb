{
 "cells": [
  {
   "cell_type": "code",
   "execution_count": 2,
   "metadata": {},
   "outputs": [],
   "source": [
    "import os\n",
    "from astropy.io import fits\n",
    "import astropy.units as u"
   ]
  },
  {
   "cell_type": "code",
   "execution_count": 3,
   "metadata": {},
   "outputs": [
    {
     "name": "stdout",
     "output_type": "stream",
     "text": [
      "/feynman/work/dap/lcs/vt272285/data/sim_data/MassiveNus/convergence_gal_mnv0.00000_om0.30000_As2.1000/Maps15/WLconv_z1.50_0100r.fits\n"
     ]
    }
   ],
   "source": [
    "def load_data(redshift, file_number, model_name):\n",
    "    # Define the base folder for all models\n",
    "    parent_folder = \"/feynman/work/dap/lcs/vt272285/data/sim_data/MassiveNus/\"\n",
    "\n",
    "    # Model parameters for each model\n",
    "    models = {\n",
    "        \"model_one\": {\"mnv\": 0.00000, \"om\": 0.30000, \"As\": 2.1000},\n",
    "        \"model_two\": {\"mnv\": 0.09041, \"om\": 0.28447, \"As\": 2.1757},\n",
    "        \"model_three\": {\"mnv\": 0.10000, \"om\": 0.30000, \"As\": 2.1000},\n",
    "        \"model_four\": {\"mnv\": 0.11874, \"om\": 0.31434, \"As\": 2.0079},\n",
    "    }\n",
    "\n",
    "    # Dynamically generate paths for each model\n",
    "    def generate_paths(models):\n",
    "        redshifts = [0.5, 1.0, 1.5, 2.0, 2.5]\n",
    "        for model_name, params in models.items():\n",
    "            base_name = f\"convergence_gal_mnv{params['mnv']:.5f}_om{params['om']:.5f}_As{params['As']:.4f}\"\n",
    "            paths = {z: os.path.join(parent_folder, f\"{base_name}/Maps{int(z*10)}\") for z in redshifts}\n",
    "            models[model_name][\"paths\"] = paths\n",
    "\n",
    "    # Populate model dictionaries with paths\n",
    "    generate_paths(models)\n",
    "\n",
    "    def get_file_name(model_name, redshift, file_number, models):\n",
    "        try:\n",
    "            model = models[model_name]\n",
    "            folder_path = model[\"paths\"][redshift]\n",
    "            filename = f\"WLconv_z{redshift:.2f}_{file_number:04d}r.fits\"\n",
    "            return os.path.join(folder_path, filename)\n",
    "        except KeyError as e:\n",
    "            raise ValueError(f\"Missing data: {e}\")\n",
    "\n",
    "    try:\n",
    "        # model_name = \"model_one\"\n",
    "        # redshift = 1.5  #[0.5, 1.0, 1.5, 2.0, 2.5]\n",
    "        # file_number = 100 #from 0 til 9999\n",
    "        full_file_path = get_file_name(model_name, redshift, file_number, models)\n",
    "        print(full_file_path)\n",
    "    except ValueError as err:\n",
    "        print(err)\n",
    "\n",
    "    with fits.open(full_file_path) as hdu:\n",
    "        data = hdu[0].data\n",
    "        angle_ = hdu[0].header[\"ANGLE\"] * u.deg\n",
    "    return data, angle_\n",
    "\n",
    "\n",
    "data, angle_ = load_data(redshift=1.5, file_number=100,model_name=\"model_one\")"
   ]
  },
  {
   "cell_type": "code",
   "execution_count": 4,
   "metadata": {},
   "outputs": [],
   "source": [
    "def load_data(file_no):\n",
    "    base_path = \"/feynman/work/dap/lcs/vt272285/HOWLS/HOWLS_DATA/\"\n",
    "    fiducial = \"SLICS_LCDM/\"\n",
    "    fiducial_path = base_path + fiducial + \"kappa_noise_GalCatalog_LOS_cone\" + str(file_no) + \".fits_s333\" + str(file_no) + \"_zmin0.0_zmax3.0_sys_3.fits_ks_nomask_shear.fits\"\n",
    "    full_file_path = fiducial_path\n",
    "    try:\n",
    "        with fits.open(full_file_path) as hdu:\n",
    "            data = hdu[0].data\n",
    "            data = data[0]\n",
    "            angle_ =10 * u.deg\n",
    "        return data, angle_\n",
    "    except FileNotFoundError:\n",
    "        print(f\"File {full_file_path} not found.\")\n",
    "        return None\n",
    "    \n",
    "data, angle_ = load_data(file_no=75)"
   ]
  },
  {
   "cell_type": "code",
   "execution_count": 5,
   "metadata": {},
   "outputs": [
    {
     "data": {
      "text/plain": [
       "(1024, 1024)"
      ]
     },
     "execution_count": 5,
     "metadata": {},
     "output_type": "execute_result"
    }
   ],
   "source": [
    "data.shape"
   ]
  },
  {
   "cell_type": "code",
   "execution_count": null,
   "metadata": {},
   "outputs": [],
   "source": []
  }
 ],
 "metadata": {
  "kernelspec": {
   "display_name": "general",
   "language": "python",
   "name": "python3"
  },
  "language_info": {
   "codemirror_mode": {
    "name": "ipython",
    "version": 3
   },
   "file_extension": ".py",
   "mimetype": "text/x-python",
   "name": "python",
   "nbconvert_exporter": "python",
   "pygments_lexer": "ipython3",
   "version": "3.8.17"
  }
 },
 "nbformat": 4,
 "nbformat_minor": 2
}
